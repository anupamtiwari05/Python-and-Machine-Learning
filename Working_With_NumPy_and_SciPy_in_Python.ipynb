{
 "cells": [
  {
   "cell_type": "code",
   "execution_count": 34,
   "metadata": {
    "collapsed": true
   },
   "outputs": [],
   "source": [
    "from IPython.display import HTML"
   ]
  },
  {
   "cell_type": "markdown",
   "metadata": {},
   "source": [
    "# HW3 Working with NumPy and SciPy in Python\n",
    "\n",
    "NumPy and SciPy are open source modules for Python, which provide fast precompiled functions for mathematical and numerical routines. NumPy is an acronym for \"Numeric Python\" or \"Numerical Python\" and SciPy is an acronym for \"Scientific Python\"."
   ]
  },
  {
   "cell_type": "markdown",
   "metadata": {},
   "source": [
    "## <u><b>1. NumPy</b></u>\n",
    "\n",
    "NumPy or \"Numerical Python\" module makes Python programming language more powerful with its powerful data structures for efficient computation of multi-dimensional arrays and matrices.\n",
    "\n",
    "Below are some examples to understand how to work with NumPy in Python:"
   ]
  },
  {
   "cell_type": "markdown",
   "metadata": {},
   "source": [
    "### Importing NumPy"
   ]
  },
  {
   "cell_type": "code",
   "execution_count": 35,
   "metadata": {
    "collapsed": true
   },
   "outputs": [],
   "source": [
    "import numpy as np # We need to import NumPy to use in our program. We use import keyword to import any module in python\n",
    "\n",
    "# np is used as alias and we see it always when we see any program where NumPy is being imported."
   ]
  },
  {
   "cell_type": "markdown",
   "metadata": {},
   "source": [
    "### Arrays\n",
    "\n",
    "Main feature of NumPy is an Array object. Arrays are similar to List however the data type of all elements of array should be same. Arrays are much fast for calculation."
   ]
  },
  {
   "cell_type": "code",
   "execution_count": 36,
   "metadata": {},
   "outputs": [
    {
     "name": "stdout",
     "output_type": "stream",
     "text": [
      "<class 'numpy.ndarray'>\n"
     ]
    }
   ],
   "source": [
    "#  Below we can see that the function array takes two arguments: the list to be converted into the array and the type of each member of the list.\n",
    "\n",
    "arr = np.array([10,20,30,40,50], int) # Here we are creating a NumPy array from a list of some numbers.\n",
    "\n",
    "print(type(arr)) # we can now check the class of a variable to know if it is an array or some other type of class."
   ]
  },
  {
   "cell_type": "markdown",
   "metadata": {},
   "source": [
    "We do operations on Arrays just like we do on Lists."
   ]
  },
  {
   "cell_type": "code",
   "execution_count": 37,
   "metadata": {},
   "outputs": [
    {
     "data": {
      "text/plain": [
       "30"
      ]
     },
     "execution_count": 37,
     "metadata": {},
     "output_type": "execute_result"
    }
   ],
   "source": [
    "arr[2] # Accessing array elements"
   ]
  },
  {
   "cell_type": "code",
   "execution_count": 38,
   "metadata": {},
   "outputs": [
    {
     "data": {
      "text/plain": [
       "array([ 10, 100,  30,  40,  50])"
      ]
     },
     "execution_count": 38,
     "metadata": {},
     "output_type": "execute_result"
    }
   ],
   "source": [
    "arr[1] = 100 # Updating array element\n",
    "arr"
   ]
  },
  {
   "cell_type": "code",
   "execution_count": 39,
   "metadata": {},
   "outputs": [
    {
     "data": {
      "text/plain": [
       "(5,)"
      ]
     },
     "execution_count": 39,
     "metadata": {},
     "output_type": "execute_result"
    }
   ],
   "source": [
    "arr.shape # The shape property of an array returns a tuple with the size of each array dimensions.\n",
    "\n",
    "# Here we created only one dimensional array with size 5"
   ]
  },
  {
   "cell_type": "code",
   "execution_count": 40,
   "metadata": {},
   "outputs": [
    {
     "data": {
      "text/plain": [
       "dtype('int32')"
      ]
     },
     "execution_count": 40,
     "metadata": {},
     "output_type": "execute_result"
    }
   ],
   "source": [
    "arr.dtype # The dtype property can be used to know what type of values are stored by the array."
   ]
  },
  {
   "cell_type": "code",
   "execution_count": 41,
   "metadata": {},
   "outputs": [
    {
     "data": {
      "text/plain": [
       "2.0"
      ]
     },
     "execution_count": 41,
     "metadata": {},
     "output_type": "execute_result"
    }
   ],
   "source": [
    " # The copy function is used to create a separate copy of an array in memory.\n",
    "arr1 = np.array([1, 2, 3, 4, 5, 6], float)\n",
    "carr = arr1.copy() # Copying an array to new variable\n",
    "carr[1] # Accessing elements from newly copied array"
   ]
  },
  {
   "cell_type": "code",
   "execution_count": 42,
   "metadata": {},
   "outputs": [
    {
     "data": {
      "text/plain": [
       "array([ 1.,  1.,  1.,  1.,  1.,  1.])"
      ]
     },
     "execution_count": 42,
     "metadata": {},
     "output_type": "execute_result"
    }
   ],
   "source": [
    "# We can fill an array with a single value.\n",
    "arr2 = np.array([1, 2, 3, 4, 5, 6], float)\n",
    "arr2.fill(1) # Filling array with 1 which will replace eralier values from array\n",
    "arr2"
   ]
  },
  {
   "cell_type": "code",
   "execution_count": 43,
   "metadata": {},
   "outputs": [
    {
     "data": {
      "text/plain": [
       "(5, 1)"
      ]
     },
     "execution_count": 43,
     "metadata": {},
     "output_type": "execute_result"
    }
   ],
   "source": [
    "#  We can increase the dimensionality of an array using the newaxis constant notation in bracket like below:\n",
    "arr3 = np.array([1, 2, 3, 4, 5], int) # One dimensional array\n",
    "arr4 = arr3[:,np.newaxis] # adding another dimension using np.newaxis\n",
    "arr4.shape # checking the dimensions"
   ]
  },
  {
   "cell_type": "markdown",
   "metadata": {},
   "source": [
    "### Iteration through Array"
   ]
  },
  {
   "cell_type": "code",
   "execution_count": 44,
   "metadata": {},
   "outputs": [
    {
     "name": "stdout",
     "output_type": "stream",
     "text": [
      "10\n",
      "20\n",
      "30\n"
     ]
    }
   ],
   "source": [
    "arr5 = np.array([10, 20, 30], int)\n",
    "for ar in arr5: # iterating through array using for loop\n",
    "    print(ar)"
   ]
  },
  {
   "cell_type": "markdown",
   "metadata": {},
   "source": [
    "### Basic Array Operations"
   ]
  },
  {
   "cell_type": "code",
   "execution_count": 45,
   "metadata": {},
   "outputs": [
    {
     "name": "stdout",
     "output_type": "stream",
     "text": [
      "60\n"
     ]
    }
   ],
   "source": [
    "# Taking Sum of an array\n",
    "arr6 = np.array([10, 20, 30], int)\n",
    "print(arr6.sum()) # Using Sum function to get sum of an array"
   ]
  },
  {
   "cell_type": "code",
   "execution_count": 46,
   "metadata": {},
   "outputs": [
    {
     "name": "stdout",
     "output_type": "stream",
     "text": [
      "20.0\n"
     ]
    }
   ],
   "source": [
    "# Taking Mean of an array\n",
    "arr7 = np.array([10, 20, 30], int)\n",
    "print(arr7.mean()) # Using Mean function to get mean of an array"
   ]
  },
  {
   "cell_type": "code",
   "execution_count": 47,
   "metadata": {},
   "outputs": [
    {
     "name": "stdout",
     "output_type": "stream",
     "text": [
      "10\n"
     ]
    }
   ],
   "source": [
    "# Taking Min of an array\n",
    "arr7 = np.array([10, 20, 30], int)\n",
    "print(arr7.min()) # Using Min function to get min of an array"
   ]
  },
  {
   "cell_type": "code",
   "execution_count": 48,
   "metadata": {},
   "outputs": [
    {
     "name": "stdout",
     "output_type": "stream",
     "text": [
      "30\n"
     ]
    }
   ],
   "source": [
    "# Taking Max of an array\n",
    "arr7 = np.array([10, 20, 30], int)\n",
    "print(arr7.max()) # Using Max function to get max of an array"
   ]
  },
  {
   "cell_type": "code",
   "execution_count": 49,
   "metadata": {},
   "outputs": [
    {
     "name": "stdout",
     "output_type": "stream",
     "text": [
      "[ 1  3  6 10 20 45]\n"
     ]
    }
   ],
   "source": [
    "# Sorting an array\n",
    "arr8 = np.array([1, 20, 3, 45, 10, 6], int)\n",
    "arr8.sort() # Using Sort function to sort elements of an array\n",
    "print(arr8)"
   ]
  },
  {
   "cell_type": "markdown",
   "metadata": {},
   "source": [
    "### Generating Random Numbers"
   ]
  },
  {
   "cell_type": "code",
   "execution_count": 50,
   "metadata": {},
   "outputs": [
    {
     "data": {
      "text/plain": [
       "array([ 0.69646919,  0.28613933,  0.22685145,  0.55131477,  0.71946897])"
      ]
     },
     "execution_count": 50,
     "metadata": {},
     "output_type": "execute_result"
    }
   ],
   "source": [
    "# First we will set a seed so whenever we generate random number, we get same numbers\n",
    "np.random.seed(123) # Setting a seed\n",
    "np.random.rand(5) # Generating random numbers using Rand function"
   ]
  },
  {
   "cell_type": "code",
   "execution_count": 51,
   "metadata": {},
   "outputs": [
    {
     "data": {
      "text/plain": [
       "0.42310646012446096"
      ]
     },
     "execution_count": 51,
     "metadata": {},
     "output_type": "execute_result"
    }
   ],
   "source": [
    "np.random.random() # Use random() function generate only one single random number between 0.0 and 1.0"
   ]
  },
  {
   "cell_type": "code",
   "execution_count": 52,
   "metadata": {},
   "outputs": [
    {
     "data": {
      "text/plain": [
       "array([-2.64001887,  0.35663106,  2.89890439, -0.3001106 , -0.01832923])"
      ]
     },
     "execution_count": 52,
     "metadata": {},
     "output_type": "execute_result"
    }
   ],
   "source": [
    "np.random.normal(1, 1.5, size = 5) # Generating 5 random number with normal distribution using mean as 1 and standard deviation as 1.5\n"
   ]
  },
  {
   "cell_type": "code",
   "execution_count": 53,
   "metadata": {},
   "outputs": [
    {
     "data": {
      "text/plain": [
       "array([-0.09470897,  1.49138963, -0.638902  , -0.44398196, -0.43435128])"
      ]
     },
     "execution_count": 53,
     "metadata": {},
     "output_type": "execute_result"
    }
   ],
   "source": [
    "np.random.normal(size = 5) # If we omit the arguments mean and sd then we get the numbers with mean = 0 and standard deviation = 1"
   ]
  },
  {
   "cell_type": "markdown",
   "metadata": {},
   "source": [
    "## <u><b>2. SciPy</b></u>\n",
    "\n",
    "The SciPy or \"Scientific Python\" module extends the functionality of NumPy with a substantial collection of useful algorithms, like minimization, Fourier transformation, regression, and other applied mathematical techniques.\n",
    "\n",
    "SciPy is organized into subpackages covering different scientific computing domains. These are summarized in the following table:\n",
    "\n",
    "<b>cluster - </b>\t         <i>Clustering algorithms</i>\n",
    "\n",
    "<b>constants - </b>\t     <i>Physical and mathematical constants</i>\n",
    "\n",
    "<b>fftpack - </b>\t         <i>Fast Fourier Transform routines</i>\n",
    "\n",
    "<b>integrate - </b>\t     <i>Integration and ordinary differential equation solvers</i>\n",
    "\n",
    "<b>interpolate - </b>\t     <i>Interpolation and smoothing splines</i>\n",
    "\n",
    "<b>io - </b>\t             <i>Input and Output</i>\n",
    "\n",
    "<b>linalg - </b>\t         <i>Linear algebra</i>\n",
    "\n",
    "<b>ndimage - </b>\t         <i>N-dimensional image processing</i>\n",
    "\n",
    "<b>odr - </b>\t             <i>Orthogonal distance regression</i>\n",
    "\n",
    "<b>optimize - </b>\t         <i>Optimization and root-finding routines</i>\n",
    "\n",
    "<b>signal - </b>\t         <i>Signal processing</i>\n",
    "\n",
    "<b>sparse - </b>\t         <i>Sparse matrices and associated routines</i>\n",
    "\n",
    "<b>spatial - </b>\t         <i>Spatial data structures and algorithms</i>\n",
    "\n",
    "<b>special - </b>\t         <i>Special functions</i>\n",
    "\n",
    "<b>stats - </b>\t         <i>Statistical distributions and functions</i>\n",
    "\n",
    "Below are some examples to understand how to work with SciPy in Python:"
   ]
  },
  {
   "cell_type": "markdown",
   "metadata": {},
   "source": [
    "### Importing SciPy and its sub modules"
   ]
  },
  {
   "cell_type": "code",
   "execution_count": 54,
   "metadata": {
    "collapsed": true
   },
   "outputs": [],
   "source": [
    "# We need to import SciPy and its sub modules to use in our program.\n",
    "import scipy as sp # Importing SciPy as alias sp\n",
    "from scipy import * # Importing all sub modules\n",
    "from scipy import linalg # Importing Linear Algebra submodule\n",
    "from scipy.stats import linregress # Here we are importing Linear Regression function from stats submodule"
   ]
  },
  {
   "cell_type": "markdown",
   "metadata": {},
   "source": [
    "### Simple Linear Regression using SciPy Stats submodule\n",
    "\n"
   ]
  },
  {
   "cell_type": "code",
   "execution_count": 55,
   "metadata": {},
   "outputs": [
    {
     "name": "stdout",
     "output_type": "stream",
     "text": [
      "Slope =  3.01495104174  and  Intercept =  -0.00222573526478\n"
     ]
    }
   ],
   "source": [
    "x = np.random.randn(100)\n",
    "y = 3 * x + 0.2 * np.random.randn(100)\n",
    "gradient, intercept, r_value, p_value, std_err = linregress(x, y)\n",
    "print(\"Slope = \", gradient, \" and \", \"Intercept = \", intercept) # Here we are printing slope and intercept values"
   ]
  },
  {
   "cell_type": "markdown",
   "metadata": {},
   "source": [
    "### Finding Inverse Matrix"
   ]
  },
  {
   "cell_type": "code",
   "execution_count": 56,
   "metadata": {},
   "outputs": [
    {
     "data": {
      "text/plain": [
       "array([[-1.48,  0.36,  0.88],\n",
       "       [ 0.56,  0.08, -0.36],\n",
       "       [ 0.16, -0.12,  0.04]])"
      ]
     },
     "execution_count": 56,
     "metadata": {},
     "output_type": "execute_result"
    }
   ],
   "source": [
    "A = mat('[1 3 5; 2 5 1; 2 3 8]') # Creating a matrix\n",
    "A\n",
    "linalg.inv(A) # getting inverse matrix, we can also use A.I"
   ]
  },
  {
   "cell_type": "markdown",
   "metadata": {},
   "source": [
    "### Getting Help"
   ]
  },
  {
   "cell_type": "code",
   "execution_count": 57,
   "metadata": {
    "scrolled": true
   },
   "outputs": [
    {
     "name": "stdout",
     "output_type": "stream",
     "text": [
      "     *** Found in numpy.random ***\n",
      "gamma(shape, scale=1.0, size=None)\n",
      "\n",
      "Draw samples from a Gamma distribution.\n",
      "\n",
      "Samples are drawn from a Gamma distribution with specified parameters,\n",
      "`shape` (sometimes designated \"k\") and `scale` (sometimes designated\n",
      "\"theta\"), where both parameters are > 0.\n",
      "\n",
      "Parameters\n",
      "----------\n",
      "shape : float or array_like of floats\n",
      "    The shape of the gamma distribution. Should be greater than zero.\n",
      "scale : float or array_like of floats, optional\n",
      "    The scale of the gamma distribution. Should be greater than zero.\n",
      "    Default is equal to 1.\n",
      "size : int or tuple of ints, optional\n",
      "    Output shape.  If the given shape is, e.g., ``(m, n, k)``, then\n",
      "    ``m * n * k`` samples are drawn.  If size is ``None`` (default),\n",
      "    a single value is returned if ``shape`` and ``scale`` are both scalars.\n",
      "    Otherwise, ``np.broadcast(shape, scale).size`` samples are drawn.\n",
      "\n",
      "Returns\n",
      "-------\n",
      "out : ndarray or scalar\n",
      "    Drawn samples from the parameterized gamma distribution.\n",
      "\n",
      "See Also\n",
      "--------\n",
      "scipy.stats.gamma : probability density function, distribution or\n",
      "    cumulative density function, etc.\n",
      "\n",
      "Notes\n",
      "-----\n",
      "The probability density for the Gamma distribution is\n",
      "\n",
      ".. math:: p(x) = x^{k-1}\\frac{e^{-x/\\theta}}{\\theta^k\\Gamma(k)},\n",
      "\n",
      "where :math:`k` is the shape and :math:`\\theta` the scale,\n",
      "and :math:`\\Gamma` is the Gamma function.\n",
      "\n",
      "The Gamma distribution is often used to model the times to failure of\n",
      "electronic components, and arises naturally in processes for which the\n",
      "waiting times between Poisson distributed events are relevant.\n",
      "\n",
      "References\n",
      "----------\n",
      ".. [1] Weisstein, Eric W. \"Gamma Distribution.\" From MathWorld--A\n",
      "       Wolfram Web Resource.\n",
      "       http://mathworld.wolfram.com/GammaDistribution.html\n",
      ".. [2] Wikipedia, \"Gamma distribution\",\n",
      "       http://en.wikipedia.org/wiki/Gamma_distribution\n",
      "\n",
      "Examples\n",
      "--------\n",
      "Draw samples from the distribution:\n",
      "\n",
      ">>> shape, scale = 2., 2.  # mean=4, std=2*sqrt(2)\n",
      ">>> s = np.random.gamma(shape, scale, 1000)\n",
      "\n",
      "Display the histogram of the samples, along with\n",
      "the probability density function:\n",
      "\n",
      ">>> import matplotlib.pyplot as plt\n",
      ">>> import scipy.special as sps\n",
      ">>> count, bins, ignored = plt.hist(s, 50, normed=True)\n",
      ">>> y = bins**(shape-1)*(np.exp(-bins/scale) /\n",
      "...                      (sps.gamma(shape)*scale**shape))\n",
      ">>> plt.plot(bins, y, linewidth=2, color='r')\n",
      ">>> plt.show()\n",
      "----------------------------------------------------------------------------\n",
      "     *** Found in math ***\n",
      "gamma(x)\n",
      "\n",
      "Gamma function at x.\n",
      "----------------------------------------------------------------------------\n",
      "\n",
      "     *** Repeat reference found in numpy.random.mtrand *** \n",
      "\n",
      "     *** Total of 3 references found. ***\n"
     ]
    }
   ],
   "source": [
    "# When scipy.info() is given a string argument, it does a search for matching objects. It returns documentation specific to that object.\n",
    "sp.info(\"gamma\")"
   ]
  },
  {
   "cell_type": "markdown",
   "metadata": {},
   "source": [
    "### Constant Sub-module\n",
    "\n",
    "The constants sub-module contains a wide variety of physical constants. Few examples are given below:"
   ]
  },
  {
   "cell_type": "code",
   "execution_count": 58,
   "metadata": {},
   "outputs": [
    {
     "data": {
      "text/plain": [
       "299792458.0"
      ]
     },
     "execution_count": 58,
     "metadata": {},
     "output_type": "execute_result"
    }
   ],
   "source": [
    "\n",
    "from scipy import constants\n",
    "\n",
    "constants.c # speed of light"
   ]
  },
  {
   "cell_type": "code",
   "execution_count": 59,
   "metadata": {},
   "outputs": [
    {
     "data": {
      "text/plain": [
       "6.62607004e-34"
      ]
     },
     "execution_count": 59,
     "metadata": {},
     "output_type": "execute_result"
    }
   ],
   "source": [
    "constants.h # Plank’s constant"
   ]
  }
 ],
 "metadata": {
  "kernelspec": {
   "display_name": "Python 3",
   "language": "python",
   "name": "python3"
  },
  "language_info": {
   "codemirror_mode": {
    "name": "ipython",
    "version": 3
   },
   "file_extension": ".py",
   "mimetype": "text/x-python",
   "name": "python",
   "nbconvert_exporter": "python",
   "pygments_lexer": "ipython3",
   "version": "3.6.4"
  }
 },
 "nbformat": 4,
 "nbformat_minor": 2
}
