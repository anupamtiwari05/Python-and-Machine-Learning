{
 "cells": [
  {
   "cell_type": "code",
   "execution_count": 1,
   "metadata": {
    "collapsed": true
   },
   "outputs": [],
   "source": [
    "from IPython.display import HTML"
   ]
  },
  {
   "cell_type": "markdown",
   "metadata": {},
   "source": [
    "# Working with Functions, Classes and Dictionary in Python"
   ]
  },
  {
   "cell_type": "markdown",
   "metadata": {},
   "source": [
    "## <u>1. Functions</u>\n",
    "\n",
    "Function is nothing but a set of instructions grouped together to perform some specific tasks, we can use it anytime. Functions do not store anything like variables do. Function returns the output when it is called. Functions are of two type:\n",
    "\n",
    "<b>a.</b> Built-in functions\n",
    "\n",
    "<b>b.</b> User defined functions\n",
    "\n",
    "We can use built-in function directly if we know them like below:\n",
    "\n",
    "<b>function_name(parameters)</b>\n",
    "\n",
    "However if we want to create any new function as per need, we can also creat them hence those functions are called <b>User Defined Functions(UDFs)</b>.\n",
    "\n",
    "Functions are very powerful in programming as user can define any function which is needed and use it to save time and coding.\n"
   ]
  },
  {
   "cell_type": "markdown",
   "metadata": {},
   "source": [
    "### <u>1.1 Built-in functions</u>\n",
    "\n",
    "Built-in functions are the functions which are already there added in the python library to use hence these are very hand and available all time.\n",
    "\n",
    "Below are few examples of useful built-in functions:"
   ]
  },
  {
   "cell_type": "markdown",
   "metadata": {},
   "source": [
    "<b><i>abs() function</i></b>"
   ]
  },
  {
   "cell_type": "code",
   "execution_count": 5,
   "metadata": {},
   "outputs": [
    {
     "name": "stdout",
     "output_type": "stream",
     "text": [
      "10\n",
      "10\n"
     ]
    }
   ],
   "source": [
    "# abs() function - it gives the output as a positive number irrespective of argument is negative or positive.\n",
    "a = 10\n",
    "b = -10\n",
    "# Both the print statement below will give output as 10 which is a positive number\n",
    "print(abs(a))\n",
    "print(abs(b))"
   ]
  },
  {
   "cell_type": "markdown",
   "metadata": {},
   "source": [
    "<b><i>divmod() function</i></b>"
   ]
  },
  {
   "cell_type": "code",
   "execution_count": 6,
   "metadata": {},
   "outputs": [
    {
     "name": "stdout",
     "output_type": "stream",
     "text": [
      "(7, 2)\n"
     ]
    }
   ],
   "source": [
    "# divmod() function - this built-in function gives the output as Quotient and Remainder in same function. First value of the output is Quotient and second value is a Remainder.\n",
    "n = 30\n",
    "d = 4\n",
    "# divmod() function takes two arguments first one is the number to be divided and second one is the divisor.\n",
    "print(divmod(n,d)) # This will give output as (7,2) where 7 is Quotient and 2 is a Remainder"
   ]
  },
  {
   "cell_type": "markdown",
   "metadata": {},
   "source": [
    "<b><i>pow() function</i></b>"
   ]
  },
  {
   "cell_type": "code",
   "execution_count": 7,
   "metadata": {},
   "outputs": [
    {
     "name": "stdout",
     "output_type": "stream",
     "text": [
      "25\n"
     ]
    }
   ],
   "source": [
    "# pow() function - we can use this function to calculate the power of one number other like 2 to the power 2 is equal to 4\n",
    "# we can also do the same thing using 2**2, this double wildcard work similar to pow() function\n",
    "n = 5\n",
    "p = 2\n",
    "print(pow(n,p)) # this takes two argument, one is number and second one is power\n",
    "# Hence in above case we will get result as 25"
   ]
  },
  {
   "cell_type": "markdown",
   "metadata": {},
   "source": [
    "<b><i>round() function</i></b>"
   ]
  },
  {
   "cell_type": "code",
   "execution_count": 8,
   "metadata": {},
   "outputs": [
    {
     "name": "stdout",
     "output_type": "stream",
     "text": [
      "2.12\n"
     ]
    }
   ],
   "source": [
    "# round() function - This built-in function takes in two numbers, one to be rounded, and one that specifies the number of decimal places to include in the output.\n",
    "# Also it round up the value means if value is 2.125 then output with two decimal place will be 2.13 not 2.12\n",
    "n = 2.124545412154\n",
    "print(round(n,2))"
   ]
  },
  {
   "cell_type": "markdown",
   "metadata": {},
   "source": [
    "<b><i>sum() function</i></b>"
   ]
  },
  {
   "cell_type": "code",
   "execution_count": 9,
   "metadata": {},
   "outputs": [
    {
     "name": "stdout",
     "output_type": "stream",
     "text": [
      "6\n",
      "10\n"
     ]
    }
   ],
   "source": [
    "# sum() function - this function is used for calculating sums of numeric compound data types, including lists, tuples, and dictionaries.\n",
    "# It takes maximum two arguments only, second argument is optional however We can not use it to calculate the sum of two integer numbers like sum(4,5).\n",
    "a = (1,2,3)\n",
    "print(sum(a)) # output is 6\n",
    "b = 4\n",
    "# or \n",
    "print(sum(a,b)) # output is 10 as we added aditinal number 4 stored in variable b"
   ]
  },
  {
   "cell_type": "markdown",
   "metadata": {},
   "source": [
    "### <u>1.2 User defined functions</u>\n",
    "\n",
    "User defined functions are the functions which user creates as per the need. For example, suppose we want to calculate the discount on a product and we do not have any function available to calculate the discount for us, in this case we can create our own function which we call user defined function.\n",
    "\n",
    "Below are the rules to define a function in Python:\n",
    "\n",
    "<b>a.</b> Function blocks begin with the keyword <b><i>def</i></b> followed by the function name and parentheses ( ( ) ).\n",
    "\n",
    "<b>b.</b> Enter any required arguments inside these parentheses.\n",
    "\n",
    "<b>c.</b> The first statement - the documentation string of the function or docstring is optional.\n",
    "\n",
    "<b>d.</b> The code block within each and every function starts with a colon (:) and is indented.\n",
    "\n",
    "<b>e.</b> The statement return [expression] exits a function or optionally passing back an expression to the caller.\n",
    "\n",
    "<b><u>Syntax</u></b>\n",
    "            \n",
    "   <b>def</b> functionname (parameters/arguments):\n",
    "          \n",
    "      \"function_docstring\"\n",
    "       \n",
    "       function_statements\n",
    "       \n",
    "       return [expression]\n",
    "\n",
    "We will see above points in more details below:"
   ]
  },
  {
   "cell_type": "markdown",
   "metadata": {
    "collapsed": true
   },
   "source": [
    "<b><u>Example</u></b>"
   ]
  },
  {
   "cell_type": "code",
   "execution_count": 10,
   "metadata": {
    "collapsed": true
   },
   "outputs": [],
   "source": [
    "def congrats(pName):\n",
    "    \"Congratulating a person\" # this is an optional doc string\n",
    "    print(\"Many many congratulations \" + pName + \".\")\n",
    "    return;"
   ]
  },
  {
   "cell_type": "code",
   "execution_count": 11,
   "metadata": {},
   "outputs": [
    {
     "name": "stdout",
     "output_type": "stream",
     "text": [
      "Many many congratulations xyz.\n"
     ]
    }
   ],
   "source": [
    "congrats(\"xyz\") # here we are calling a function defined above"
   ]
  },
  {
   "cell_type": "markdown",
   "metadata": {
    "collapsed": true
   },
   "source": [
    "<b><u>Function Arguments</u></b>\n",
    "\n",
    "We can call a function by using the following types of arguments:"
   ]
  },
  {
   "cell_type": "markdown",
   "metadata": {},
   "source": [
    "<b>a.</b> Required arguments"
   ]
  },
  {
   "cell_type": "code",
   "execution_count": null,
   "metadata": {},
   "outputs": [],
   "source": [
    "# Required arguments - in case of below function, we need to pass argument pName which is required and mandatory.\n",
    "# If we do not pass the argument, it will throw an erro stating that missing 1 required positional argument: 'pName'\n",
    "def congrats(pName):\n",
    "    \"Congratulating a person\" # this is an optional doc string\n",
    "    print(\"Many many congratulations \" + pName + \".\")\n",
    "    return;\n",
    "\n",
    "congrats() # this will throw an error as we have not passed the required argument."
   ]
  },
  {
   "cell_type": "markdown",
   "metadata": {},
   "source": [
    "<b>b.</b> Keyword arguments"
   ]
  },
  {
   "cell_type": "code",
   "execution_count": 12,
   "metadata": {},
   "outputs": [
    {
     "name": "stdout",
     "output_type": "stream",
     "text": [
      "Name:  ABC\n",
      "Age:  15\n",
      "Name:  15\n",
      "Age:  ABC\n",
      "Name:  ABC\n",
      "Age:  15\n"
     ]
    }
   ],
   "source": [
    "# Keyword arguments - When there are two or more argumetns need to be passed in a function then either we can pass them in order or we can use arguments keywords.\n",
    "# When we use arguments keywords, we can pass arguments in any order as function interpret the values from keyword parameters.\n",
    "\n",
    "def pInfo(name,age):\n",
    "    print(\"Name: \", name)\n",
    "    print(\"Age: \", age)\n",
    "    return;\n",
    "\n",
    "pInfo(\"ABC\",15) # here arguments passed in order so no issues\n",
    "\n",
    "pInfo(15,\"ABC\") # here arguments passed in random order hence name will take value 15 and age will take ABC\n",
    "\n",
    "pInfo(age = 15,name = \"ABC\") # here arguments passed using keyword so order does not matter."
   ]
  },
  {
   "cell_type": "markdown",
   "metadata": {},
   "source": [
    "<b>c.</b> Default arguments"
   ]
  },
  {
   "cell_type": "code",
   "execution_count": 13,
   "metadata": {},
   "outputs": [
    {
     "name": "stdout",
     "output_type": "stream",
     "text": [
      "Name:  ABC\n",
      "Age:  21\n",
      "Name:  xyz\n",
      "Age:  25\n"
     ]
    }
   ],
   "source": [
    "# Default arguments - default arguments is an argument which takes the default value if the argument value not passed in the function\n",
    "def dInfo(name,age = 21):\n",
    "    print(\"Name: \", name)\n",
    "    print(\"Age: \", age)\n",
    "    return;\n",
    "\n",
    "dInfo(\"ABC\") # here we have passed a single value for name only however in function we have provided default value to age\n",
    "\n",
    "# When we run above function, it will take default value of age and print out as 21\n",
    "# if we pass a value to age then it will take that value like below:\n",
    "dInfo(\"xyz\",25)"
   ]
  },
  {
   "cell_type": "markdown",
   "metadata": {},
   "source": [
    "<b>d.</b> Variable-length arguments"
   ]
  },
  {
   "cell_type": "code",
   "execution_count": 15,
   "metadata": {},
   "outputs": [
    {
     "name": "stdout",
     "output_type": "stream",
     "text": [
      "Output is: \n",
      "500\n",
      "Output is: \n",
      "500\n",
      "300\n"
     ]
    }
   ],
   "source": [
    "# Variable-length arguments - In some cases we need to provide more number of arguments then we specified, in this case we use variable length arguments\n",
    "# this argument is variable in nature so we can pass on many argument values in a function\n",
    "\n",
    "# Syntax\n",
    "\n",
    "# def functionname([formal_args,] *var_argsname ):\n",
    "   # \"function_docstring\"\n",
    "   # function_statement\n",
    "   # return [expression];\n",
    "\n",
    "def printVal( num, *myVar ):\n",
    "    print(\"Output is: \")\n",
    "    print(num)\n",
    "    for var in myVar:\n",
    "        print(var)\n",
    "        return;\n",
    "    \n",
    "printVal(500) # This will print out as 500 as here it is signle value passed as an argument\n",
    "\n",
    "printVal(500,300) # This will print all values 500, 300 as here multiple values passed as a variable argument"
   ]
  },
  {
   "cell_type": "markdown",
   "metadata": {},
   "source": [
    "## <u>2. Classes</u>\n",
    "\n",
    "Class is a user-defined prototype to create objects that defines the set of attributes which characterize the object hence we can consider the class as a factory for making objects. Class simple describes how to make something (Objects).\n",
    "\n",
    "We can also describe a Class as a self-contained collection of variables and functions. \n",
    "\n",
    "Below is the syntax to create a Class:\n",
    "\n",
    "<b>class class_name:\n",
    "\n",
    "    [Statement]\n",
    "</b>\n",
    "\n",
    "As we can see above, we use keyword \"class\" and then provide class name followed by a colon to create a class. Statement consist of all the class members, data attributes and functions."
   ]
  },
  {
   "cell_type": "markdown",
   "metadata": {
    "collapsed": true
   },
   "source": [
    "### <u>2.1 Examples of creating a Class</u>"
   ]
  },
  {
   "cell_type": "code",
   "execution_count": 16,
   "metadata": {
    "collapsed": true
   },
   "outputs": [],
   "source": [
    "# Below is an example how we creat a class:\n",
    "\n",
    "class student:\n",
    "    'This is a class for all students' #This is a optional doc string which is nothing but a short description of a class\n",
    "    def __init__(self, name, age): # This _init_ function is must in every class as it initialize the class when we create an instance of the class.\n",
    "        # self is the very first parameter/argument in any function defined inside the class.\n",
    "        # to access any variable or function inside the class, there names must be preceded with self and a full stop (e.g. self.variablename)\n",
    "        self.name = name\n",
    "        self.age = age\n",
    "    \n",
    "    def showStudent(self):\n",
    "        print(\"Name : \", self.name,  \", Age: \", self.age)"
   ]
  },
  {
   "cell_type": "markdown",
   "metadata": {
    "collapsed": true
   },
   "source": [
    "### <u>2.2 Using a Class</u>"
   ]
  },
  {
   "cell_type": "code",
   "execution_count": 17,
   "metadata": {},
   "outputs": [
    {
     "name": "stdout",
     "output_type": "stream",
     "text": [
      "Name :  ABC , Age:  20\n",
      "ABC\n",
      "20\n"
     ]
    }
   ],
   "source": [
    "student1 = student(\"ABC\", 20) # This will create first object of student class\n",
    "student2 = student(\"XYZ\", 30) # This will create second object of student class\n",
    "\n",
    "student1.showStudent() # Accessing student info\n",
    "print(student1.name) # Accessing only name\n",
    "print(student1.age) # Accessing only age"
   ]
  },
  {
   "cell_type": "code",
   "execution_count": 19,
   "metadata": {},
   "outputs": [
    {
     "name": "stdout",
     "output_type": "stream",
     "text": [
      "10\n"
     ]
    }
   ],
   "source": [
    "student1.age = 8  # Modifying 'age'\n",
    "del student1.age  # Deleting 'age'\n",
    "student1.age = 10  # Again adding 'age\n",
    "print(student1.age) # Accessing only age"
   ]
  },
  {
   "cell_type": "markdown",
   "metadata": {
    "collapsed": true
   },
   "source": [
    "### <u>2.3 Built-In Class Attributes</u>"
   ]
  },
  {
   "cell_type": "code",
   "execution_count": 20,
   "metadata": {},
   "outputs": [
    {
     "name": "stdout",
     "output_type": "stream",
     "text": [
      "student.__doc__: This is a class for all students\n",
      "student.__name__: student\n",
      "student.__module__: __main__\n",
      "student.__dict__: {'showStudent': <function student.showStudent at 0x000002873A578158>, '__weakref__': <attribute '__weakref__' of 'student' objects>, '__doc__': 'This is a class for all students', '__dict__': <attribute '__dict__' of 'student' objects>, '__init__': <function student.__init__ at 0x000002873A5780D0>, '__module__': '__main__'}\n"
     ]
    }
   ],
   "source": [
    "print(\"student.__doc__:\", student.__doc__) # __doc__ gives information of Class documentation string else none, if not defined in class.\n",
    "\n",
    "print (\"student.__name__:\", student.__name__) # __name__ gives class name\n",
    "\n",
    "print (\"student.__module__:\", student.__module__) # __module__ gives the name module where the class has been defined. This attribute is \"__main__\" in interactive mode.\n",
    "\n",
    "print (\"student.__dict__:\", student.__dict__) # __dict__ gives the information of Dictionary containing the class's namespace."
   ]
  },
  {
   "cell_type": "markdown",
   "metadata": {},
   "source": [
    "### <u>2.4 Class Inheritance</u>\n",
    "\n",
    "Inheritance is an important feature of object oriented programming. It enable us to define a class that can inherit all the functionality from a parent class and allows us to add more functionality if we want.\n",
    "\n",
    "<b><u>Syntax</u></b>\n",
    "\n",
    "<b>class childClassName (ParentClass1[, ParentClass2, ...]):\n",
    "\n",
    "       'Optional class documentation string'\n",
    "   \n",
    "       class_statements\n",
    "</b>\n",
    "\n",
    "Below is the example of class inheritance:"
   ]
  },
  {
   "cell_type": "code",
   "execution_count": 21,
   "metadata": {
    "collapsed": true
   },
   "outputs": [],
   "source": [
    "class child(student): # Here we used class \"student\" as a parent class\n",
    "    'This is a child class inheriting student class' #This is a optional doc string which is nothing but a short description of a class\n",
    "    def __init__(self, name, age, college): # This _init_ function is must in every class as it initialize the class when we create an instance of the class.\n",
    "        # self is the very first parameter/argument in any function defined inside the class.\n",
    "        # to access any variable or function inside the class, there names must be preceded with self and a full stop (e.g. self.variablename)\n",
    "        self.name = name\n",
    "        self.age = age\n",
    "        self.college = college\n",
    "    def showStudentCollege(self):\n",
    "        print(\"Name : \", self.name,  \", Age: \", self.age,  \", College: \", self.college)"
   ]
  },
  {
   "cell_type": "code",
   "execution_count": 22,
   "metadata": {},
   "outputs": [
    {
     "name": "stdout",
     "output_type": "stream",
     "text": [
      "Name :  ABC , Age:  30\n",
      "Name :  ABC , Age:  30 , College:  Rutgers\n"
     ]
    }
   ],
   "source": [
    "std = child(\"ABC\",30,\"Rutgers\") # creating instance of a child class\n",
    "std.showStudent() # accessing showStudent() function from parent class being in child class\n",
    "std.showStudentCollege() # accessing showStudentCollege() function from child class"
   ]
  },
  {
   "cell_type": "markdown",
   "metadata": {},
   "source": [
    "## <u>3. Dictionary</u>\n",
    "\n",
    "Dictionaries are the unordered set. Dictionaries contains keys and their respective values. Keys are used to access the values from dictionaries. Each key is separated from its value by semicolon. Dictionaries belongs to the built-in mapping type. We use curly braces <b>{}</b> to create dictionary."
   ]
  },
  {
   "cell_type": "markdown",
   "metadata": {},
   "source": [
    "### <u>3.1 Basic operations on Dictionary</u>"
   ]
  },
  {
   "cell_type": "code",
   "execution_count": 23,
   "metadata": {},
   "outputs": [
    {
     "name": "stdout",
     "output_type": "stream",
     "text": [
      "xyz\n"
     ]
    }
   ],
   "source": [
    "# Accessing values from Dictionary\n",
    "\n",
    "dict1 = {'FirstName':'ABC', 'LastName':'xyz', 'Program':'MIT'} # Key is before semicolon and value is after semicolon\n",
    "print(dict1['LastName']) # We use square brackets and provide key to access the value from dictionary."
   ]
  },
  {
   "cell_type": "code",
   "execution_count": 24,
   "metadata": {},
   "outputs": [
    {
     "name": "stdout",
     "output_type": "stream",
     "text": [
      "Harrison\n"
     ]
    }
   ],
   "source": [
    "# Adding/Updating Dictionary with new key-value pair\n",
    "\n",
    "dict1 = {'FirstName':'ABC', 'LastName':'xyz', 'Program':'MIT'}\n",
    "dict1['City'] = \"Harrison\" # Adding new value into Dictionary\n",
    "dict1['Program'] = 'MIS' # Updating new value of Program into Dictionary\n",
    "print(dict1['City'])"
   ]
  },
  {
   "cell_type": "code",
   "execution_count": 25,
   "metadata": {
    "collapsed": true
   },
   "outputs": [],
   "source": [
    "# Deleting Dictionary or its elemetns\n",
    "\n",
    "dict2 = {'FirstName':'ABC', 'LastName':'xyz', 'Program':'MIT'}\n",
    "\n",
    "# We have below three methods/function to use to delete dictionary or its elements\n",
    "\n",
    "del dict2['Program'] # it delete specific element of a dictionary\n",
    "dict2.clear() # it will delete all the elements of a dictionary\n",
    "del dict2 # it will delete the whole dictionary"
   ]
  },
  {
   "cell_type": "code",
   "execution_count": 26,
   "metadata": {},
   "outputs": [
    {
     "name": "stdout",
     "output_type": "stream",
     "text": [
      "dict_items([('FirstName', 'ABC'), ('LastName', 'xyz'), ('Program', 'MIS'), ('City', 'Harrison')])\n"
     ]
    }
   ],
   "source": [
    "# Printing items of a dictionary\n",
    "print(dict1.items())"
   ]
  },
  {
   "cell_type": "code",
   "execution_count": 27,
   "metadata": {},
   "outputs": [
    {
     "data": {
      "text/plain": [
       "dict_values(['ABC', 'xyz', 'MIS', 'Harrison'])"
      ]
     },
     "execution_count": 27,
     "metadata": {},
     "output_type": "execute_result"
    }
   ],
   "source": [
    "# Access list of keys and values separately\n",
    "dict1.keys() # It will give list of keys only\n",
    "dict1.values() # It will give list of values only"
   ]
  },
  {
   "cell_type": "code",
   "execution_count": 30,
   "metadata": {},
   "outputs": [
    {
     "name": "stdout",
     "output_type": "stream",
     "text": [
      "{'FirstName': 'ABC', 'LastName': 'xyz', 'Program': 'MIS', 'City': 'Harrison'}\n",
      "{'FirstName': 'ABC', 'LastName': 'xyz', 'Program': 'MIS', 'City': 'New Jersey'}\n"
     ]
    }
   ],
   "source": [
    "# Copying Dictionary using method copy()\n",
    "\n",
    "dict3 = dict1.copy() # When we copy a dictionary and make any change in copied dictionary, it does not impact the original dictionary\n",
    "dict3[\"City\"]=\"New Jersey\" # Updating new value of City into Dictionary\n",
    "\n",
    "print(dict1) # original dictionary\n",
    "\n",
    "print(dict3) # copied from dict1 dictionary where we changed City to New Jersey\n"
   ]
  },
  {
   "cell_type": "markdown",
   "metadata": {},
   "source": [
    "### <u>3.2 Dictionaries of Classes</u>"
   ]
  },
  {
   "cell_type": "code",
   "execution_count": 31,
   "metadata": {
    "collapsed": true
   },
   "outputs": [],
   "source": [
    "# First, create a dictionary:\n",
    "dictionary = {}\n",
    "# Then, create some instances of classes in the dictionary:\n",
    "dictionary[\"student1\"] = student(\"ABC\",30)\n",
    "dictionary[\"student2\"] = student(\"XYZ\",25)"
   ]
  },
  {
   "cell_type": "code",
   "execution_count": 32,
   "metadata": {},
   "outputs": [
    {
     "name": "stdout",
     "output_type": "stream",
     "text": [
      "Name :  XYZ , Age:  25\n",
      "Name :  XYZ , Age:  25\n"
     ]
    }
   ],
   "source": [
    "# We can now use these dictionaries like a normal class:\n",
    "dictionary[\"student2\"].showStudent()\n",
    "dictionary[\"student2\"].showStudent()"
   ]
  }
 ],
 "metadata": {
  "kernelspec": {
   "display_name": "Python 3",
   "language": "python",
   "name": "python3"
  },
  "language_info": {
   "codemirror_mode": {
    "name": "ipython",
    "version": 3
   },
   "file_extension": ".py",
   "mimetype": "text/x-python",
   "name": "python",
   "nbconvert_exporter": "python",
   "pygments_lexer": "ipython3",
   "version": "3.6.4"
  }
 },
 "nbformat": 4,
 "nbformat_minor": 2
}
