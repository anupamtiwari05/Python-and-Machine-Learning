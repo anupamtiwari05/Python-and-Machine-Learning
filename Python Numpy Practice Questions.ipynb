{
 "cells": [
  {
   "cell_type": "markdown",
   "metadata": {},
   "source": [
    "# Python Numpy Practice Questions Answers"
   ]
  },
  {
   "cell_type": "markdown",
   "metadata": {},
   "source": [
    "**1) Write a Python code which finds common values between two arrays by using for loop and if statement? **"
   ]
  },
  {
   "cell_type": "code",
   "execution_count": 1,
   "metadata": {
    "collapsed": true
   },
   "outputs": [],
   "source": [
    "import numpy as np"
   ]
  },
  {
   "cell_type": "code",
   "execution_count": 2,
   "metadata": {
    "collapsed": true
   },
   "outputs": [],
   "source": [
    "x1 = np.array([2,4,2,3,1,5])\n",
    "x2 = np.array([5,8,1,2,6,7,2])"
   ]
  },
  {
   "cell_type": "code",
   "execution_count": 3,
   "metadata": {
    "collapsed": true
   },
   "outputs": [],
   "source": [
    "# Here, ravel() function helps in flatten the multidimensional array into \n",
    "# one dimensional array hence will be helpful in comparing the arrays.\n",
    "a = x1.ravel()\n",
    "b = x2.ravel()"
   ]
  },
  {
   "cell_type": "code",
   "execution_count": 4,
   "metadata": {},
   "outputs": [
    {
     "name": "stdout",
     "output_type": "stream",
     "text": [
      "Common values are : [1, 2, 5]\n"
     ]
    }
   ],
   "source": [
    "# Below code will check common values in two arrays (one dimensional or multidimensional) \n",
    "# and return the unique common values.\n",
    "# For example: in above arrays, value 2 is two times in both the arrays,\n",
    "# so I will record it one time only in output.\n",
    "commonVal = []\n",
    "len_a = len(a)\n",
    "len_b = len(b)\n",
    "if len_a > len_b:\n",
    "    for vl in b:\n",
    "        if (vl in a) & (not vl in commonVal):\n",
    "                commonVal.append(vl)\n",
    "elif len_b > len_a:\n",
    "    for vl in a:\n",
    "        if (vl in b) & (not vl in commonVal):\n",
    "                commonVal.append(vl)\n",
    "elif len_a == len_b:\n",
    "    for vl in a:\n",
    "        if (vl in b) & (not vl in commonVal):\n",
    "                commonVal.append(vl)\n",
    "\n",
    "if len(commonVal) > 0:\n",
    "    commonVal.sort()\n",
    "    print(\"Common values are : {}\".format(commonVal))\n",
    "elif len(commonVal) == 0:\n",
    "    print(\"No common values found.\")"
   ]
  },
  {
   "cell_type": "markdown",
   "metadata": {},
   "source": [
    "**Testing above code for finding common values in two dimensional array**"
   ]
  },
  {
   "cell_type": "code",
   "execution_count": 5,
   "metadata": {
    "collapsed": true
   },
   "outputs": [],
   "source": [
    "x3=np.array([ [6, 7, 2, 4],\n",
    "[7, 6, 8, 8],\n",
    "[1, 6, 7, 7]])\n",
    "\n",
    "x4=np.array([ [3, 5, 2, 4],\n",
    "[7, 6, 5, 8],\n",
    "[1, 6, 9, 7]])"
   ]
  },
  {
   "cell_type": "code",
   "execution_count": 6,
   "metadata": {
    "collapsed": true
   },
   "outputs": [],
   "source": [
    "a = x3.ravel()\n",
    "b = x4.ravel()"
   ]
  },
  {
   "cell_type": "code",
   "execution_count": 7,
   "metadata": {
    "scrolled": true
   },
   "outputs": [
    {
     "name": "stdout",
     "output_type": "stream",
     "text": [
      "Common values are : [1, 2, 4, 6, 7, 8]\n"
     ]
    }
   ],
   "source": [
    "commonVal = []\n",
    "len_a = len(a)\n",
    "len_b = len(b)\n",
    "if len_a > len_b:\n",
    "    for vl in b:\n",
    "        if (vl in a) & (not vl in commonVal):\n",
    "                commonVal.append(vl)\n",
    "elif len_b > len_a:\n",
    "    for vl in a:\n",
    "        if (vl in b) & (not vl in commonVal):\n",
    "                commonVal.append(vl)\n",
    "elif len_a == len_b:\n",
    "    for vl in a:\n",
    "        if (vl in b) & (not vl in commonVal):\n",
    "                commonVal.append(vl)\n",
    "\n",
    "if len(commonVal) > 0:\n",
    "    commonVal.sort()\n",
    "    print(\"Common values are : {}\".format(commonVal))\n",
    "elif len(commonVal) == 0:\n",
    "    print(\"No common values found.\")"
   ]
  },
  {
   "cell_type": "markdown",
   "metadata": {},
   "source": [
    "**2)  Create a random 5 by 5 matrix and replace the maximum value by 0 ? (Use for loop, first obtain the row by searching all of the elements in the rows and find the columns in a same way). Do not use the existing codes, produce your own code!!**"
   ]
  },
  {
   "cell_type": "markdown",
   "metadata": {},
   "source": [
    "**Creating a random 5 by 5 matrix**"
   ]
  },
  {
   "cell_type": "code",
   "execution_count": 9,
   "metadata": {
    "scrolled": true
   },
   "outputs": [
    {
     "data": {
      "text/plain": [
       "array([[ 5, 11, 12,  8,  9],\n",
       "       [11,  5, 15,  0, 16],\n",
       "       [ 1, 12,  7, 13,  6],\n",
       "       [18, 20,  5, 18, 20],\n",
       "       [11, 10, 14, 18,  4]])"
      ]
     },
     "execution_count": 9,
     "metadata": {},
     "output_type": "execute_result"
    }
   ],
   "source": [
    "np.random.seed(1)\n",
    "mtx = np.random.randint(25, size = (5,5))\n",
    "mtx"
   ]
  },
  {
   "cell_type": "markdown",
   "metadata": {},
   "source": [
    "**Replacing max value in each Row with 0**"
   ]
  },
  {
   "cell_type": "code",
   "execution_count": 10,
   "metadata": {
    "scrolled": true
   },
   "outputs": [
    {
     "data": {
      "text/plain": [
       "array([[ 5, 11,  0,  8,  9],\n",
       "       [11,  5, 15,  0,  0],\n",
       "       [ 1, 12,  7,  0,  6],\n",
       "       [18,  0,  5, 18,  0],\n",
       "       [11, 10, 14,  0,  4]])"
      ]
     },
     "execution_count": 10,
     "metadata": {},
     "output_type": "execute_result"
    }
   ],
   "source": [
    "k = -1\n",
    "m = -1\n",
    "for i in range(0,np.shape(mtx)[0]):\n",
    "    for j in mtx[i]:\n",
    "        k +=1\n",
    "        if (j == mtx[i].max()) & (j >= m):\n",
    "            m = mtx[i,k]\n",
    "            mtx[i,k] = 0\n",
    "    m = -1\n",
    "    k = -1\n",
    "mtx"
   ]
  },
  {
   "cell_type": "markdown",
   "metadata": {},
   "source": [
    "**Creating a random 5 by 5 matrix**"
   ]
  },
  {
   "cell_type": "code",
   "execution_count": 11,
   "metadata": {},
   "outputs": [
    {
     "data": {
      "text/plain": [
       "array([[ 5, 11, 12,  8,  9],\n",
       "       [11,  5, 15,  0, 16],\n",
       "       [ 1, 12,  7, 13,  6],\n",
       "       [18, 20,  5, 18, 20],\n",
       "       [11, 10, 14, 18,  4]])"
      ]
     },
     "execution_count": 11,
     "metadata": {},
     "output_type": "execute_result"
    }
   ],
   "source": [
    "np.random.seed(1)\n",
    "mtx = np.random.randint(25, size = (5,5))\n",
    "mtx"
   ]
  },
  {
   "cell_type": "markdown",
   "metadata": {},
   "source": [
    "**Replacing max value in each Column with 0**"
   ]
  },
  {
   "cell_type": "code",
   "execution_count": 12,
   "metadata": {},
   "outputs": [
    {
     "data": {
      "text/plain": [
       "array([[ 5, 11, 12,  8,  9],\n",
       "       [11,  5,  0,  0, 16],\n",
       "       [ 1, 12,  7, 13,  6],\n",
       "       [ 0,  0,  5,  0,  0],\n",
       "       [11, 10, 14,  0,  4]])"
      ]
     },
     "execution_count": 12,
     "metadata": {},
     "output_type": "execute_result"
    }
   ],
   "source": [
    "k = -1\n",
    "m = -1\n",
    "for i in range(0,np.shape(mtx)[1]):\n",
    "    for j in mtx[:,i]:\n",
    "        k +=1\n",
    "        if (j == mtx[:,i].max()) & (j >= m):\n",
    "            m = mtx[k,i]\n",
    "            mtx[k,i] = 0\n",
    "    m = -1\n",
    "    k = -1\n",
    "mtx"
   ]
  },
  {
   "cell_type": "markdown",
   "metadata": {},
   "source": [
    "**Creating a random 5 by 5 matrix**"
   ]
  },
  {
   "cell_type": "code",
   "execution_count": 13,
   "metadata": {},
   "outputs": [
    {
     "data": {
      "text/plain": [
       "array([[ 5, 11, 12,  8,  9],\n",
       "       [11,  5, 15,  0, 16],\n",
       "       [ 1, 12,  7, 13,  6],\n",
       "       [18, 20,  5, 18, 20],\n",
       "       [11, 10, 14, 18,  4]])"
      ]
     },
     "execution_count": 13,
     "metadata": {},
     "output_type": "execute_result"
    }
   ],
   "source": [
    "np.random.seed(1)\n",
    "mtx = np.random.randint(25, size = (5,5))\n",
    "mtx"
   ]
  },
  {
   "cell_type": "markdown",
   "metadata": {},
   "source": [
    "**Replacing max value in each Row and Column with 0**"
   ]
  },
  {
   "cell_type": "code",
   "execution_count": 14,
   "metadata": {},
   "outputs": [
    {
     "data": {
      "text/plain": [
       "array([[ 5, 11,  0,  8,  0],\n",
       "       [11,  5,  0,  0,  0],\n",
       "       [ 1,  0,  7,  0,  6],\n",
       "       [ 0,  0,  5,  0,  0],\n",
       "       [11, 10, 14,  0,  4]])"
      ]
     },
     "execution_count": 14,
     "metadata": {},
     "output_type": "execute_result"
    }
   ],
   "source": [
    "# replacing max value in each row with 0\n",
    "k = -1\n",
    "m = -1\n",
    "for i in range(0,np.shape(mtx)[0]):\n",
    "    for j in mtx[i]:\n",
    "        k +=1\n",
    "        if (j == mtx[i].max()) & (j >= m):\n",
    "            m = mtx[i,k]\n",
    "            mtx[i,k] = 0\n",
    "    m = -1\n",
    "    k = -1\n",
    "# replacing max value in each column with 0\n",
    "k = -1\n",
    "m = -1\n",
    "for i in range(0,np.shape(mtx)[1]):\n",
    "    for j in mtx[:,i]:\n",
    "        k +=1\n",
    "        if (j == mtx[:,i].max()) & (j >= m):\n",
    "            m = mtx[k,i]\n",
    "            mtx[k,i] = 0\n",
    "    m = -1\n",
    "    k = -1\n",
    "\n",
    "mtx"
   ]
  },
  {
   "cell_type": "markdown",
   "metadata": {},
   "source": [
    "**3) Given two arrays X and Y with sizes 6 and 8, construct the matrix C such that Cij =1/(xi - yj). (Use for loop for this problem)?**"
   ]
  },
  {
   "cell_type": "code",
   "execution_count": 15,
   "metadata": {},
   "outputs": [
    {
     "name": "stdout",
     "output_type": "stream",
     "text": [
      "Size of X: 6\n",
      "Size of Y: 8\n"
     ]
    }
   ],
   "source": [
    "# np.random.seed(8)\n",
    "# X = np.random.randint(10, size=6)\n",
    "# Y = np.random.randint(10, size=8)\n",
    "# OR\n",
    "X = np.array([1,2,4,1,6,8])\n",
    "print(\"Size of X: {}\".format(len(X)))\n",
    "Y = np.array([5,4,3,2,8,4,7,2])\n",
    "print(\"Size of Y: {}\".format(len(Y)))"
   ]
  },
  {
   "cell_type": "code",
   "execution_count": 16,
   "metadata": {},
   "outputs": [
    {
     "data": {
      "text/plain": [
       "array([[ 0.,  0.,  0.,  0.,  0.,  0.,  0.,  0.],\n",
       "       [ 0.,  0.,  0.,  0.,  0.,  0.,  0.,  0.],\n",
       "       [ 0.,  0.,  0.,  0.,  0.,  0.,  0.,  0.],\n",
       "       [ 0.,  0.,  0.,  0.,  0.,  0.,  0.,  0.],\n",
       "       [ 0.,  0.,  0.,  0.,  0.,  0.,  0.,  0.],\n",
       "       [ 0.,  0.,  0.,  0.,  0.,  0.,  0.,  0.]])"
      ]
     },
     "execution_count": 16,
     "metadata": {},
     "output_type": "execute_result"
    }
   ],
   "source": [
    "# Creating a zero matrix of 6 by 8\n",
    "C = np.zeros((6,8))\n",
    "C"
   ]
  },
  {
   "cell_type": "code",
   "execution_count": 17,
   "metadata": {
    "scrolled": true
   },
   "outputs": [
    {
     "data": {
      "text/plain": [
       "array([[-0.25      , -0.33333333, -0.5       , -1.        , -0.14285714,\n",
       "        -0.33333333, -0.16666667, -1.        ],\n",
       "       [-0.33333333, -0.5       , -1.        ,         inf, -0.16666667,\n",
       "        -0.5       , -0.2       ,         inf],\n",
       "       [-1.        ,         inf,  1.        ,  0.5       , -0.25      ,\n",
       "                inf, -0.33333333,  0.5       ],\n",
       "       [-0.25      , -0.33333333, -0.5       , -1.        , -0.14285714,\n",
       "        -0.33333333, -0.16666667, -1.        ],\n",
       "       [ 1.        ,  0.5       ,  0.33333333,  0.25      , -0.5       ,\n",
       "         0.5       , -1.        ,  0.25      ],\n",
       "       [ 0.33333333,  0.25      ,  0.2       ,  0.16666667,         inf,\n",
       "         0.25      ,  1.        ,  0.16666667]])"
      ]
     },
     "execution_count": 17,
     "metadata": {},
     "output_type": "execute_result"
    }
   ],
   "source": [
    "import warnings; warnings.simplefilter('ignore')\n",
    "\n",
    "# The above line is to ignore divide by zero warning.\n",
    "\n",
    "for i in range(0,len(X)):\n",
    "    for j in range(0,len(Y)):\n",
    "        C[i,j] = 1/(X[i]-Y[j])\n",
    "C"
   ]
  },
  {
   "cell_type": "markdown",
   "metadata": {},
   "source": [
    "**4) Consider two random array A and B, check if they are equal or not. (Use for loop and if conditions for this problem. Do not use existing codes. Use your own codes). **"
   ]
  },
  {
   "cell_type": "code",
   "execution_count": 18,
   "metadata": {
    "collapsed": true
   },
   "outputs": [],
   "source": [
    "# Below are two arrays, we can add or delete values in arrays -\n",
    "# to test the array comparison code\n",
    "l = np.array([1,5,2,6,8])\n",
    "m = np.array([2,6,5,8,1])"
   ]
  },
  {
   "cell_type": "code",
   "execution_count": 19,
   "metadata": {},
   "outputs": [
    {
     "name": "stdout",
     "output_type": "stream",
     "text": [
      "Arrays are equal.\n"
     ]
    }
   ],
   "source": [
    "len_l = len(l)\n",
    "len_m = len(m)\n",
    "cnt = 0\n",
    "if len_l == len_m:\n",
    "    for item in l:\n",
    "        if item in m:\n",
    "            cnt += 1\n",
    "    if len_l == cnt:\n",
    "        print(\"Arrays are equal.\")\n",
    "    elif len_l != cnt:\n",
    "        print(\"Arrays are not equal\")\n",
    "else:\n",
    "    print(\"Arrays are not equal.\")"
   ]
  },
  {
   "cell_type": "markdown",
   "metadata": {},
   "source": [
    "**5) How to get the nth largest values of an array? (Use for loop for this problem. Do not use existing codes. Use your own codes).**"
   ]
  },
  {
   "cell_type": "code",
   "execution_count": 20,
   "metadata": {
    "scrolled": true
   },
   "outputs": [
    {
     "name": "stdout",
     "output_type": "stream",
     "text": [
      "2 largest value is 8\n"
     ]
    }
   ],
   "source": [
    "#np.random.seed(8)\n",
    "#arr = np.random.randint(10, size=6)\n",
    "# Change size above to increase or decrease number of values in an array\n",
    "#lst = list(arr)\n",
    "#print(\"The array is {}\".format(lst))\n",
    "\n",
    "lst = [3, 4, 1, 9, 5, 8]\n",
    "nth = 2 # Change this value to get nth largest value of an array\n",
    "j = 0\n",
    "if nth == 1:\n",
    "    print(\"{}st largest value is {}\".format(nth, max(lst)))\n",
    "elif (nth > 1) & (nth <= len(lst)):\n",
    "    for i in range(0,nth-1):\n",
    "        ind = lst.index(max(lst))\n",
    "        del(lst[ind])\n",
    "    print(\"{} largest value is {}\".format(nth, max(lst)))\n",
    "elif (nth > len(lst)) or (nth <= 0):\n",
    "    print(\"nth value is not valid.\")           "
   ]
  },
  {
   "cell_type": "markdown",
   "metadata": {},
   "source": [
    "**6) Write a Python code which calculates the following equation.(You can take the power as large number , for example 25).**\n",
    "\n",
    "\\begin{align}\n",
    "\\sin(x) & \\approx x - \\frac{x^3}{3!} + \\frac{x^5}{5!} - \\frac{x^7}{7!} + \\cdots \\\\\n",
    "\\end{align}    "
   ]
  },
  {
   "cell_type": "code",
   "execution_count": 21,
   "metadata": {},
   "outputs": [
    {
     "name": "stdout",
     "output_type": "stream",
     "text": [
      "0.9092974515196738\n"
     ]
    }
   ],
   "source": [
    "def factorial(powerNum):\n",
    "    if powerNum > 1:\n",
    "        # Below is a recursive programming step\n",
    "        return powerNum * factorial(powerNum-1) \n",
    "    return 1\n",
    "\n",
    "sine = 0\n",
    "xNum=2\n",
    "powerNum=7\n",
    "for i in range(powerNum):\n",
    "    sign = (-1)**i\n",
    "    sine = sine + ((xNum**(2.0*i+1))/factorial(2*i+1))*sign\n",
    "\n",
    "print(sine)"
   ]
  },
  {
   "cell_type": "markdown",
   "metadata": {},
   "source": [
    "**Above code can be changed into a Function as below**"
   ]
  },
  {
   "cell_type": "code",
   "execution_count": 22,
   "metadata": {
    "collapsed": true
   },
   "outputs": [],
   "source": [
    "# Here xNum is a number and powerNum represent the power of a number i.e. xNum\n",
    "def sin(xNum,powerNum):\n",
    "    sine = 0\n",
    "    for i in range(powerNum):\n",
    "        sign = (-1)**i\n",
    "        sine = sine + ((xNum**(2.0*i+1))/factorial(2*i+1))*sign\n",
    "    return sine\n",
    "\n",
    "def factorial(powerNum):\n",
    "    if powerNum > 1:\n",
    "        # Below is a recursive programming step\n",
    "        return powerNum * factorial(powerNum-1) \n",
    "    return 1"
   ]
  },
  {
   "cell_type": "code",
   "execution_count": 659,
   "metadata": {},
   "outputs": [
    {
     "data": {
      "text/plain": [
       "0.9092974515196738"
      ]
     },
     "execution_count": 659,
     "metadata": {},
     "output_type": "execute_result"
    }
   ],
   "source": [
    "sin(2,7)"
   ]
  },
  {
   "cell_type": "markdown",
   "metadata": {},
   "source": [
    "**7) Define a Python function which finds the largest even and odd numbers in a list. (Use for loop and if conditions for this problem. Do not use existing codes. Use your own codes).**"
   ]
  },
  {
   "cell_type": "code",
   "execution_count": 23,
   "metadata": {},
   "outputs": [
    {
     "name": "stdout",
     "output_type": "stream",
     "text": [
      "Original list : [1, 4, 3, 6, 7, 9]\n",
      "Largest Even Number : 6\n",
      "Largest Odd Number : 9\n"
     ]
    }
   ],
   "source": [
    "myList = [1,4,3,6,7,9]\n",
    "evenNum = 0\n",
    "oddNum = 0\n",
    "for item in myList:\n",
    "    if (item % 2 is 0) & (item > evenNum):\n",
    "        evenNum = item\n",
    "    elif (not item % 2 is 0) & (item > oddNum):\n",
    "        oddNum = item\n",
    "        \n",
    "print(\"Original list : {}\".format(myList))\n",
    "print(\"Largest Even Number : {}\".format(evenNum))\n",
    "print(\"Largest Odd Number : {}\".format(oddNum))"
   ]
  },
  {
   "cell_type": "markdown",
   "metadata": {},
   "source": [
    "**Above code can be changed into a Function as below**"
   ]
  },
  {
   "cell_type": "code",
   "execution_count": 24,
   "metadata": {
    "collapsed": true
   },
   "outputs": [],
   "source": [
    "def getLargestOddEvenNum(numList):\n",
    "    evenNum = 0\n",
    "    oddNum = 0\n",
    "    for item in numList:\n",
    "        if (item % 2 is 0) & (item > evenNum):\n",
    "            evenNum = item\n",
    "        elif (not item % 2 is 0) & (item > oddNum):\n",
    "            oddNum = item\n",
    "\n",
    "    print(\"Original list : {}\".format(numList))\n",
    "    print(\"Largest Even Number : {}\".format(evenNum))\n",
    "    print(\"Largest Odd Number : {}\".format(oddNum))"
   ]
  },
  {
   "cell_type": "code",
   "execution_count": 25,
   "metadata": {},
   "outputs": [
    {
     "name": "stdout",
     "output_type": "stream",
     "text": [
      "Original list : [1, 4, 3, 6, 7, 8]\n",
      "Largest Even Number : 8\n",
      "Largest Odd Number : 7\n"
     ]
    }
   ],
   "source": [
    "myList = [1,4,3,6,7,8]\n",
    "getLargestOddEvenNum(myList)"
   ]
  },
  {
   "cell_type": "markdown",
   "metadata": {},
   "source": [
    "**8) Define a Python function which finds the all of the even numbers and the product of the even numbers.  (Use for loop and if conditions for this problem. Do not use existing codes. Use your own codes).**"
   ]
  },
  {
   "cell_type": "code",
   "execution_count": 26,
   "metadata": {},
   "outputs": [
    {
     "name": "stdout",
     "output_type": "stream",
     "text": [
      "Original list : [1, 4, 3, 6, 7, 9]\n",
      "All even numbers are : [4, 6]\n",
      "Product of even numbers : 24\n"
     ]
    }
   ],
   "source": [
    "myList = [1,4,3,6,7,9]\n",
    "evenNum = []\n",
    "prodEvenNum = 1\n",
    "for item in myList:\n",
    "    if (item % 2 is 0):\n",
    "        evenNum.append(item)\n",
    "        prodEvenNum = prodEvenNum * item\n",
    "\n",
    "print(\"Original list : {}\".format(myList))\n",
    "print(\"All even numbers are : {}\".format(evenNum))\n",
    "print(\"Product of even numbers : {}\".format(prodEvenNum))"
   ]
  },
  {
   "cell_type": "markdown",
   "metadata": {},
   "source": [
    "**Above code can be changed into a Function as below**"
   ]
  },
  {
   "cell_type": "code",
   "execution_count": 27,
   "metadata": {
    "collapsed": true
   },
   "outputs": [],
   "source": [
    "def getEvenNumandProd(numList):\n",
    "    evenNum = []\n",
    "    prodEvenNum = 1\n",
    "    for item in numList:\n",
    "        if (item % 2 is 0):\n",
    "            evenNum.append(item)\n",
    "            prodEvenNum = prodEvenNum * item\n",
    "\n",
    "    print(\"Original list : {}\".format(numList))\n",
    "    print(\"All even numbers are : {}\".format(evenNum))\n",
    "    print(\"Product of even numbers : {}\".format(prodEvenNum))"
   ]
  },
  {
   "cell_type": "code",
   "execution_count": 28,
   "metadata": {},
   "outputs": [
    {
     "name": "stdout",
     "output_type": "stream",
     "text": [
      "Original list : [1, 4, 3, 6, 7, 8]\n",
      "All even numbers are : [4, 6, 8]\n",
      "Product of even numbers : 192\n"
     ]
    }
   ],
   "source": [
    "myList = [1,4,3,6,7,8]\n",
    "getEvenNumandProd(myList)"
   ]
  }
 ],
 "metadata": {
  "kernelspec": {
   "display_name": "Python 3",
   "language": "python",
   "name": "python3"
  },
  "language_info": {
   "codemirror_mode": {
    "name": "ipython",
    "version": 3
   },
   "file_extension": ".py",
   "mimetype": "text/x-python",
   "name": "python",
   "nbconvert_exporter": "python",
   "pygments_lexer": "ipython3",
   "version": "3.6.4"
  }
 },
 "nbformat": 4,
 "nbformat_minor": 2
}
