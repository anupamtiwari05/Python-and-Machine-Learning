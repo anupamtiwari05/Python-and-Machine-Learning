{
 "cells": [
  {
   "cell_type": "code",
   "execution_count": null,
   "metadata": {
    "collapsed": true
   },
   "outputs": [],
   "source": [
    "from IPython.display import HTML"
   ]
  },
  {
   "cell_type": "markdown",
   "metadata": {},
   "source": [
    "# Working with Strings, Lists, Tuple, Sorting, and Dictionary in Python"
   ]
  },
  {
   "cell_type": "markdown",
   "metadata": {},
   "source": [
    "## <u>1. Strings</u>\n",
    "String is just a collection of characters grammatically arranged or arranged in some sequence which is immutable. In Python, it is very easy to create string. To create a string we just need to enclose the words or group of characters in double quotes or single quotes and assign it to any desired variable.\n",
    "Below are few examples of strings and its basic operations in Python:"
   ]
  },
  {
   "cell_type": "code",
   "execution_count": 1,
   "metadata": {},
   "outputs": [
    {
     "name": "stdout",
     "output_type": "stream",
     "text": [
      "My name is Anupam\n"
     ]
    }
   ],
   "source": [
    "# Creating a string and saving it to a variable\n",
    "\n",
    "mName = \"My name is Anupam\" # We will use this variable \"mName\" very often in this tutorial to explain string operations.\n",
    "print(mName) # we use print() function to print the output\n",
    "\n",
    "# Here string is \"My name is Anupam\" and I have saved or stored in a variable named as mName\n",
    "# We can use both single quotes and double quotes to create string\n",
    "# If we want to enclose any specific work or part of string in quotes then we can single quotes to enclose entire string and double quotes to enclose specific word or vice versa.\n",
    "# for example: 'My name is \"Anupam\"' is same as \"My name is 'Anupam\""
   ]
  },
  {
   "cell_type": "code",
   "execution_count": 2,
   "metadata": {},
   "outputs": [
    {
     "name": "stdout",
     "output_type": "stream",
     "text": [
      "123 Street,\n",
      "Unit 789\n",
      "State - NJ\n"
     ]
    }
   ],
   "source": [
    "# Creating multiline string\n",
    "\n",
    "mAddress = \"\"\"123 Street,\n",
    "Unit 789\n",
    "State - NJ\"\"\"\n",
    "print(mAddress)\n",
    "\n",
    "# To create multiline string we can use either triple single quotes or triple double quotes"
   ]
  },
  {
   "cell_type": "markdown",
   "metadata": {},
   "source": [
    "### <u>1.1 Basic operations on Strings</u>"
   ]
  },
  {
   "cell_type": "code",
   "execution_count": 7,
   "metadata": {},
   "outputs": [
    {
     "name": "stdout",
     "output_type": "stream",
     "text": [
      "m\n"
     ]
    }
   ],
   "source": [
    "# Accessing specific character or group of characters from a string\n",
    "\n",
    "mName = \"My name is Anupam\"\n",
    "\n",
    "print(mName[0])\n",
    "\n",
    "# In python, indexing starts from 0 so lower index is 0.\n",
    "# To extract right most character from above string we just supplied 0\n",
    "# If we want to extract more characters, we can supply index as [0:2]\n",
    "# Also we can provide negative numbers as an Index which will start giving output from right most side e.g. print(mName[-1]) will give output as m which is right most character in above string."
   ]
  },
  {
   "cell_type": "code",
   "execution_count": 8,
   "metadata": {},
   "outputs": [
    {
     "name": "stdout",
     "output_type": "stream",
     "text": [
      "17\n"
     ]
    }
   ],
   "source": [
    "# Count number of characters in a string including spaces\n",
    "cCount = len(mName) # len() function give the total number of character in string\n",
    "print(cCount) # we used this print() to print the output which is number of characters in a string."
   ]
  },
  {
   "cell_type": "code",
   "execution_count": 11,
   "metadata": {},
   "outputs": [
    {
     "name": "stdout",
     "output_type": "stream",
     "text": [
      "Sunny Day\n"
     ]
    }
   ],
   "source": [
    "# Concate string using '+' sign\n",
    "\n",
    "a = \"Sunny\"\n",
    "b = \"Day\"\n",
    "conStr = a+ \" \" +b # we also added space to separate values while concatenation\n",
    "print(conStr)"
   ]
  },
  {
   "cell_type": "code",
   "execution_count": 12,
   "metadata": {},
   "outputs": [
    {
     "name": "stdout",
     "output_type": "stream",
     "text": [
      "ElephantElephantElephant\n"
     ]
    }
   ],
   "source": [
    "# Repetition of string using asterisk\n",
    "c = \"Elephant\"\n",
    "repC = c*3 # When we use asterisk and any integer number like we used 3, the string will gets repeted that many times.\n",
    "print(repC)\n"
   ]
  },
  {
   "cell_type": "code",
   "execution_count": 16,
   "metadata": {},
   "outputs": [
    {
     "name": "stdout",
     "output_type": "stream",
     "text": [
      "True\n"
     ]
    }
   ],
   "source": [
    "# Check if any character is present in a string\n",
    "\n",
    "d = \"Today is holiday\"\n",
    "print('i' in d) # with 'in' operator we can check if any character is present in a string or not, if present, output will be True else False"
   ]
  },
  {
   "cell_type": "code",
   "execution_count": 28,
   "metadata": {},
   "outputs": [
    {
     "name": "stdout",
     "output_type": "stream",
     "text": [
      "E:\n",
      "ll d\n",
      "E:\\nll d\n"
     ]
    }
   ],
   "source": [
    "# Dealing with escape characters used with backslash like \\t, \\n etc.\n",
    "\n",
    "print('E:\\nll d') # when we used the path as actual string, our output will not be as desired as we se \\n which caused string after it to be printed in new line.\n",
    "\n",
    "print(r'E:\\nll d') # Here we used 'r' just before the quotes which will not consider the escape characters differently and print result as desired."
   ]
  },
  {
   "cell_type": "code",
   "execution_count": 111,
   "metadata": {},
   "outputs": [
    {
     "name": "stdout",
     "output_type": "stream",
     "text": [
      "My name is Anupam and I am from XYZ City\n"
     ]
    }
   ],
   "source": [
    "# Using string formating operator %\n",
    "\n",
    "print(\"My name is %s and I am from %s\" % (\"Anupam\", \"XYZ City\"))\n",
    "\n",
    "# We can see that in a string we used %s which is used for string conversion and replaces with values in bracket after %\n",
    "# It happens in sequence, it means first %s will be replaced by first value in bracket as in above case its replaced bu \"Anupam\" and second %s replaced by \"XYZ City\""
   ]
  },
  {
   "cell_type": "markdown",
   "metadata": {},
   "source": [
    "### <u>1.2 Some built-in String methods</u>"
   ]
  },
  {
   "cell_type": "code",
   "execution_count": 112,
   "metadata": {},
   "outputs": [
    {
     "name": "stdout",
     "output_type": "stream",
     "text": [
      "Anupam\n"
     ]
    }
   ],
   "source": [
    "# Capitalizing first letter/character\n",
    "\n",
    "a = \"anupam\"\n",
    "print(a.capitalize()) # Used capitalize() function to capitalize the first letter"
   ]
  },
  {
   "cell_type": "code",
   "execution_count": 38,
   "metadata": {},
   "outputs": [
    {
     "name": "stdout",
     "output_type": "stream",
     "text": [
      "2\n"
     ]
    }
   ],
   "source": [
    "# Counting number of character/word from custom start index to end index\n",
    "\n",
    "# Syntax is string.count(substring, startIndex, endIndex)\n",
    "nm = \"anupam\"\n",
    "\n",
    "print(nm.count(\"a\", 0, 5)) # Here we will get count of character 'a' in string stored in a variable 'nm'"
   ]
  },
  {
   "cell_type": "code",
   "execution_count": 42,
   "metadata": {},
   "outputs": [
    {
     "name": "stdout",
     "output_type": "stream",
     "text": [
      "4\n"
     ]
    }
   ],
   "source": [
    "# Find start position of a character or substring in a string\n",
    "\n",
    "# Syntax is string.find(substring, startIndex)\n",
    "\n",
    "nm = \"anupam\"\n",
    "print(nm.find(\"a\", 1)) # Here we will get start position or start index of character \"a\" in a string checking the index after index 1\n",
    "\n",
    "# The output is an index number and in python indexing starts from 0 hence to know actual position add 1 in output"
   ]
  },
  {
   "cell_type": "code",
   "execution_count": 45,
   "metadata": {},
   "outputs": [
    {
     "name": "stdout",
     "output_type": "stream",
     "text": [
      "make it lower case\n",
      "MAKE IT UPPER CASE\n"
     ]
    }
   ],
   "source": [
    "# Convert string to lower or upper case\n",
    "\n",
    "print(\"Make IT lower case\".lower()) # lower() function Will change string to lower case\n",
    "\n",
    "print(\"Make IT upper case\".upper()) # upper() function Will change string to lower case"
   ]
  },
  {
   "cell_type": "code",
   "execution_count": 50,
   "metadata": {},
   "outputs": [
    {
     "name": "stdout",
     "output_type": "stream",
     "text": [
      "True\n",
      "False\n",
      "True\n"
     ]
    }
   ],
   "source": [
    "# Check if any starin starts with or ends with any specific character or word\n",
    "\n",
    "# Syntax is string.startswith('stringtoseacrh') or string.endswith('stringtoseacrh'), output comes in boolean as True or False\n",
    "st = \"Today is holiday\"\n",
    "print(st.startswith(\"T\")) # Will give output as True\n",
    "\n",
    "print(st.startswith(\"t\")) # Will give output as False because python is case sensitive and t is not equal to T\n",
    "\n",
    "print(st.endswith(\"ay\")) # Will give output as True"
   ]
  },
  {
   "cell_type": "code",
   "execution_count": 51,
   "metadata": {},
   "outputs": [
    {
     "name": "stdout",
     "output_type": "stream",
     "text": [
      "['Today', 'is', 'holiday']\n"
     ]
    }
   ],
   "source": [
    "# Split a string by any specific delimiter\n",
    "\n",
    "st = \"Today is holiday\"\n",
    "\n",
    "print(st.split(\" \")) # string splitted by space"
   ]
  },
  {
   "cell_type": "markdown",
   "metadata": {
    "collapsed": true
   },
   "source": [
    "## <u>2. Lists and Tuples</u>\n",
    "Lists & Tuples are <b>sequence</b> type datastructurs in Python. However there is some difference between list and tuple. we can modify list but not the tuple. We use square brackets to create list and in case of tuple we use parentheses. We generally use lists for similar datatypes and tuple for different datatypes."
   ]
  },
  {
   "cell_type": "code",
   "execution_count": 53,
   "metadata": {
    "collapsed": true
   },
   "outputs": [],
   "source": [
    "list1 = ['A', 'B', 'C', 'D', 1, 2, 3, 4] # This is an example of a list as we used square brackets to create it\n",
    "\n",
    "tuple1 = ('A', 'B', 'C', 'D', 1, 2, 3, 4) # This is an example of tuple as we used parentheses to create it"
   ]
  },
  {
   "cell_type": "markdown",
   "metadata": {},
   "source": [
    "### <u>2.1 Basic operations on Lists</u>"
   ]
  },
  {
   "cell_type": "code",
   "execution_count": 64,
   "metadata": {},
   "outputs": [
    {
     "name": "stdout",
     "output_type": "stream",
     "text": [
      "['A', 'B', 'C', 'D', 1, 2, 3, 4, 'E']\n"
     ]
    }
   ],
   "source": [
    "# Add new item in a list\n",
    "\n",
    "list1.append(\"E\") # Added new item/element \"E\" in existing list using append()function\n",
    "print(list1)\n",
    "\n",
    "# We can only add an item at the end of the list using append() function"
   ]
  },
  {
   "cell_type": "code",
   "execution_count": 65,
   "metadata": {},
   "outputs": [
    {
     "name": "stdout",
     "output_type": "stream",
     "text": [
      "['A', 'B', 'C', 'D', 1, 2, 3, 4]\n"
     ]
    }
   ],
   "source": [
    "# Delete an item from list\n",
    "\n",
    "del list1[8] #deleted the new added item \"E\" using \"del\" command\n",
    "print(list1)"
   ]
  },
  {
   "cell_type": "code",
   "execution_count": 71,
   "metadata": {},
   "outputs": [
    {
     "name": "stdout",
     "output_type": "stream",
     "text": [
      "['A', 'B', 'C', 'D', 'E', 1, 2, 3, 4]\n"
     ]
    }
   ],
   "source": [
    "# Insert new item at specified index\n",
    "#Syntax is list.insert(index,\"string/item/element\")\n",
    "\n",
    "list1.insert(4,\"E\") # we added \"E\" at index 4\n",
    "print(list1)\n",
    "\n",
    "# We can only add an item at any index in the list using insert() function"
   ]
  },
  {
   "cell_type": "code",
   "execution_count": 74,
   "metadata": {},
   "outputs": [
    {
     "name": "stdout",
     "output_type": "stream",
     "text": [
      "['A', 'B', 'C', 'D', 1, 2, 3, 4]\n"
     ]
    }
   ],
   "source": [
    "# We can also remove an item from list using remove() function\n",
    "\n",
    "list2 = ['A', 'B', 'C', 'D', 'E', 1, 2, 3, 4]\n",
    "list2.remove(\"E\") # in this case we need to provide the item value not the index number as in case of \"del\" command above\n",
    "print(list2)"
   ]
  },
  {
   "cell_type": "code",
   "execution_count": 81,
   "metadata": {},
   "outputs": [
    {
     "name": "stdout",
     "output_type": "stream",
     "text": [
      "['A', 'B', 'C', 'D', 'E', 1, 2, 3, 4]\n",
      "['A', 'C', 'D', 'E', 1, 2, 3, 4]\n",
      "['A', 'B', 'C', 'D', 'E', 1, 2, 3, 4]\n"
     ]
    }
   ],
   "source": [
    "# Cloning a list\n",
    "\n",
    "# Syntax is list1 = list2[:]\n",
    "\n",
    "# When we clone list we get a copy of other list and it is independent of the other list in the sense that if we make any change to the new cloned list, it willnot change inything in other list\n",
    "a1 = ['A', 'B', 'C', 'D', 'E', 1, 2, 3, 4]\n",
    "b1 = a1[:]\n",
    "print(b1) # It has same items as in list a1\n",
    "\n",
    "del b1[1] # deleting one item from list b1\n",
    "print (b1)\n",
    "print (a1) # Change in list b1 has no impact on list a1"
   ]
  },
  {
   "cell_type": "markdown",
   "metadata": {},
   "source": [
    "### <u>2.2 Basic operations on Tuples</u>"
   ]
  },
  {
   "cell_type": "code",
   "execution_count": 105,
   "metadata": {},
   "outputs": [
    {
     "name": "stdout",
     "output_type": "stream",
     "text": [
      "()\n"
     ]
    }
   ],
   "source": [
    "# Create an empty tuple\n",
    "\n",
    "tup1 = ()\n",
    "print(tup1) # it will return just blank parentheses"
   ]
  },
  {
   "cell_type": "code",
   "execution_count": 108,
   "metadata": {},
   "outputs": [
    {
     "name": "stdout",
     "output_type": "stream",
     "text": [
      "('Anupam',)\n"
     ]
    }
   ],
   "source": [
    "# Creating tuple with single element\n",
    "\n",
    "tup2 = ('Anupam',) # Even we have single value, we need to put comma at the end else the values will be stored as string not the tuple\n",
    "print(tup2)\n",
    "\n",
    "# We can check the type using type() function like print(type(tup2))"
   ]
  },
  {
   "cell_type": "code",
   "execution_count": 110,
   "metadata": {},
   "outputs": [
    {
     "name": "stdout",
     "output_type": "stream",
     "text": [
      "('a', 'b', 'c', 1, 2, 3)\n"
     ]
    }
   ],
   "source": [
    "# Concatenating tuples\n",
    "\n",
    "tup3 = ('a','b','c')\n",
    "tup4 = (1,2,3)\n",
    "tup5 = tup3+tup4 # Here we used '+' sign to concatenate two tuples into one\n",
    "print(tup5)"
   ]
  },
  {
   "cell_type": "markdown",
   "metadata": {
    "collapsed": true
   },
   "source": [
    "## <u>3. Sorting</u>\n",
    "We have two built-in function in python for sorting. One is sort() function and another is sorted() function.\n",
    "Both functions have their applications. sort() function sorts the list in place however sorted() function create new sorted list."
   ]
  },
  {
   "cell_type": "code",
   "execution_count": 89,
   "metadata": {},
   "outputs": [
    {
     "name": "stdout",
     "output_type": "stream",
     "text": [
      "[1, 2, 3, 5, 8]\n"
     ]
    }
   ],
   "source": [
    "# Using sort() function\n",
    "a2 = [2,3,1,8,5]\n",
    "a2.sort() # sort() function does not return anything, just sort the list in place\n",
    "print(a2)"
   ]
  },
  {
   "cell_type": "code",
   "execution_count": 94,
   "metadata": {},
   "outputs": [
    {
     "name": "stdout",
     "output_type": "stream",
     "text": [
      "[8, 5, 3, 2, 1]\n"
     ]
    }
   ],
   "source": [
    "# Using sorted() function\n",
    "a3 = [2,3,1,8,5]\n",
    "a4 = sorted(a2, reverse=True) # sorted function created new sorted list and we stored that in new variable a4\n",
    "print(a4)"
   ]
  },
  {
   "cell_type": "code",
   "execution_count": 96,
   "metadata": {},
   "outputs": [
    {
     "name": "stdout",
     "output_type": "stream",
     "text": [
      "['a', 'abc', 'aftg', 'dvbcd']\n"
     ]
    }
   ],
   "source": [
    "# We can also use 'key parameters' with sort() and sorted() functions\n",
    "\n",
    "strs = ['a', 'abc', 'dvbcd', 'aftg']\n",
    "print(sorted(strs, key=len))  # Here we provided key as len function hence the sorted() function will sort the values considering the increasing length of the items in the list\n"
   ]
  },
  {
   "cell_type": "markdown",
   "metadata": {
    "collapsed": true
   },
   "source": [
    "## <u>4. Dictionary</u>\n",
    "Dictionaries are the unordered set. Dictionaries contains keys and their respective values. Keys are used to access the values from dictionaries. Each key is separated from its value by semicolon. Dictionaries belongs to the built-in mapping type. We use curly braces {} to create dictionary."
   ]
  },
  {
   "cell_type": "markdown",
   "metadata": {
    "collapsed": true
   },
   "source": [
    "### <u>4.1 Basic operations on Dictionary</u>"
   ]
  },
  {
   "cell_type": "code",
   "execution_count": 97,
   "metadata": {},
   "outputs": [
    {
     "name": "stdout",
     "output_type": "stream",
     "text": [
      "Tiwari\n"
     ]
    }
   ],
   "source": [
    "# Accessing values from Dictionary\n",
    "\n",
    "dict1 = {'FirstName':'Anupam', 'LastName':'Tiwari', 'Program':'MIT'} # Key is before semicolon and value is after semicolon\n",
    "print(dict1['LastName']) # We use square brackets and provide key to access the value from dictionary."
   ]
  },
  {
   "cell_type": "code",
   "execution_count": 99,
   "metadata": {},
   "outputs": [
    {
     "name": "stdout",
     "output_type": "stream",
     "text": [
      "Harrison\n"
     ]
    }
   ],
   "source": [
    "# Adding/Updating Dictionary with new key-value pair\n",
    "\n",
    "dict1 = {'FirstName':'Anupam', 'LastName':'Tiwari', 'Program':'MIT'}\n",
    "dict1['City'] = \"Harrison\" # Adding new value into Dictionary\n",
    "dict1['Program'] = 'MIS' # Updating new value ofr Program into Dictionary\n",
    "print(dict1['City'])"
   ]
  },
  {
   "cell_type": "code",
   "execution_count": null,
   "metadata": {
    "collapsed": true
   },
   "outputs": [],
   "source": [
    "# Deleting Dictionary or its elemetns\n",
    "\n",
    "dict2 = {'FirstName':'Anupam', 'LastName':'Tiwari', 'Program':'MIT'}\n",
    "\n",
    "# We have below three methods/function to use to delete dictionary or its elements\n",
    "\n",
    "del dict2['Program'] # it delete specific element of a dictionary\n",
    "dict2.clear() # it will delete all the elements of a dictionary\n",
    "del dict2 # it will delete the whole dictionary\n"
   ]
  },
  {
   "cell_type": "code",
   "execution_count": 101,
   "metadata": {},
   "outputs": [
    {
     "name": "stdout",
     "output_type": "stream",
     "text": [
      "dict_items([('LastName', 'Tiwari'), ('City', 'Harrison'), ('FirstName', 'Anupam'), ('Program', 'MIS')])\n"
     ]
    }
   ],
   "source": [
    "# Printing items of a dictionary\n",
    "print(dict1.items())"
   ]
  },
  {
   "cell_type": "code",
   "execution_count": 103,
   "metadata": {},
   "outputs": [
    {
     "data": {
      "text/plain": [
       "dict_keys(['LastName', 'City', 'FirstName', 'Program'])"
      ]
     },
     "execution_count": 103,
     "metadata": {},
     "output_type": "execute_result"
    }
   ],
   "source": [
    "# Access list of keys and values separately\n",
    "dict1.keys() # It will give list of keys only\n",
    "dict1.values() # It will give list of values only"
   ]
  }
 ],
 "metadata": {
  "kernelspec": {
   "display_name": "Python 3",
   "language": "python",
   "name": "python3"
  },
  "language_info": {
   "codemirror_mode": {
    "name": "ipython",
    "version": 3
   },
   "file_extension": ".py",
   "mimetype": "text/x-python",
   "name": "python",
   "nbconvert_exporter": "python",
   "pygments_lexer": "ipython3",
   "version": "3.6.4"
  }
 },
 "nbformat": 4,
 "nbformat_minor": 2
}
